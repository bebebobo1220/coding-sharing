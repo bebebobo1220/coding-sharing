{
 "cells": [
  {
   "cell_type": "markdown",
   "source": [
    "Given a signed 32-bit integer x, return x with its digits reversed. If reversing x causes the value to go outside the signed 32-bit integer range [-231, 231 - 1], then return 0."
   ],
   "metadata": {}
  },
  {
   "cell_type": "code",
   "execution_count": null,
   "source": [
    "class Solution:\r\n",
    "    def reverse(self, x: int) -> int:\r\n",
    "        if x > 0 :\r\n",
    "            a = ' '.join(reversed(str(x).split(' ')))\r\n",
    "            num=0\r\n",
    "            for i in range(len(a)):\r\n",
    "                num= num + int(int(a[i])*10**i)\r\n",
    "        if x <= 0:\r\n",
    "            a = ' '.join(reversed(str(-1*x).split(' ')))\r\n",
    "            num=0\r\n",
    "            for i in range(len(a)):\r\n",
    "                num= num+-1* (int(a[i])*10**i)\r\n",
    "                \r\n",
    "        mina = -2**31  \r\n",
    "        maxa = 2**31 - 1  \r\n",
    "        if num not in range(mina, maxa):  \r\n",
    "            return 0 \r\n",
    "        else:  \r\n",
    "            return num  "
   ],
   "outputs": [],
   "metadata": {}
  }
 ],
 "metadata": {
  "orig_nbformat": 4,
  "language_info": {
   "name": "python"
  }
 },
 "nbformat": 4,
 "nbformat_minor": 2
}