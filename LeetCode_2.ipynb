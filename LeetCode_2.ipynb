{
 "cells": [
  {
   "cell_type": "code",
   "execution_count": null,
   "source": [],
   "outputs": [],
   "metadata": {}
  },
  {
   "cell_type": "markdown",
   "source": [
    "Given an array of integers nums and an integer target, return indices of the two numbers such that they add up to target."
   ],
   "metadata": {}
  },
  {
   "cell_type": "code",
   "execution_count": null,
   "source": [
    "class Solution:\r\n",
    "    def twoSum(self, nums=[3,2,6], target=5):\r\n",
    "        for i in range(len(nums)):\r\n",
    "            num = target-nums[i] \r\n",
    "            if num in nums and nums.index(num)!=i:\r\n",
    "                return [i,nums.index(num)]"
   ],
   "outputs": [],
   "metadata": {}
  }
 ],
 "metadata": {
  "orig_nbformat": 4,
  "language_info": {
   "name": "python"
  }
 },
 "nbformat": 4,
 "nbformat_minor": 2
}